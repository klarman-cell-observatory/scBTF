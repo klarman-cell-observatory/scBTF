{
 "cells": [
  {
   "cell_type": "markdown",
   "id": "060b1871-bba0-4b79-a734-2ef378038fc2",
   "metadata": {
    "pycharm": {
     "name": "#%% md\n"
    }
   },
   "source": [
    "# Rank Determination"
   ]
  },
  {
   "cell_type": "code",
   "execution_count": null,
   "outputs": [],
   "source": [
    "import os\n",
    "import sys\n",
    "import scanpy as sc\n",
    "import numpy as np\n",
    "import pandas as pd\n",
    "import matplotlib.pyplot as plt\n",
    "import argparse\n",
    "import rich\n",
    "import gseapy as gp\n",
    "import ipywidgets as widgets\n",
    "\n",
    "\n",
    "from IPython.display import display\n",
    "from rich.panel import Panel\n",
    "from gseapy import gseaplot\n",
    "from statannotations.Annotator import Annotator\n",
    "from pathlib import Path\n",
    "from scBTF import SingleCellTensor, SingleCellBTF, FactorizationSet, Factorization\n",
    "\n",
    "%config InlineBackend.figure_formats = ['png2x']\n",
    "sc.logging.print_header()\n",
    "sc.settings.njobs = 32"
   ],
   "metadata": {
    "collapsed": false,
    "pycharm": {
     "name": "#%%\n"
    }
   }
  },
  {
   "cell_type": "markdown",
   "id": "883a4861-fe86-4522-9d93-e42631e3a969",
   "metadata": {},
   "source": [
    " "
   ]
  },
  {
   "cell_type": "markdown",
   "id": "a1528c38-ef87-43e4-bfa8-2d3b35a0b82f",
   "metadata": {},
   "source": [
    "## 1. Load Config and Data"
   ]
  },
  {
   "cell_type": "code",
   "execution_count": 4,
   "id": "a4cd5bc0-65c8-49f3-9f15-b59dbcc5d000",
   "metadata": {},
   "outputs": [
    {
     "data": {
      "text/html": [
       "<pre style=\"white-space:pre;overflow-x:auto;line-height:normal;font-family:Menlo,'DejaVu Sans Mono',consolas,'Courier New',monospace\"><span style=\"color: #800080; text-decoration-color: #800080; font-weight: bold\">Namespace</span><span style=\"font-weight: bold\">(</span><span style=\"color: #808000; text-decoration-color: #808000\">adata_path</span>=<span style=\"color: #008000; text-decoration-color: #008000\">'/home/dchafamo/final/data/combined_dataset_final_v2.h5ad'</span>, \n",
       "<span style=\"color: #808000; text-decoration-color: #808000\">consensus_factorization_path</span>=<span style=\"color: #008000; text-decoration-color: #008000\">'/home/dchafamo/scBTF/results/hgnc_hals_consensus_factorization.pkl'</span>, \n",
       "<span style=\"color: #808000; text-decoration-color: #808000\">full_factorization_path</span>=<span style=\"color: #008000; text-decoration-color: #008000\">'/home/dchafamo/scBTF/results/factorization_hgnc_hals.pkl'</span><span style=\"font-weight: bold\">)</span>\n",
       "</pre>\n"
      ],
      "text/plain": [
       "\u001B[1;35mNamespace\u001B[0m\u001B[1m(\u001B[0m\u001B[33madata_path\u001B[0m=\u001B[32m'/home/dchafamo/final/data/combined_dataset_final_v2.h5ad'\u001B[0m, \n",
       "\u001B[33mconsensus_factorization_path\u001B[0m=\u001B[32m'/home/dchafamo/scBTF/results/hgnc_hals_consensus_factorization.pkl'\u001B[0m, \n",
       "\u001B[33mfull_factorization_path\u001B[0m=\u001B[32m'/home/dchafamo/scBTF/results/factorization_hgnc_hals.pkl'\u001B[0m\u001B[1m)\u001B[0m\n"
      ]
     },
     "metadata": {},
     "output_type": "display_data"
    }
   ],
   "source": [
    "CONFIG_FILE = '.config_ipynb'\n",
    "\n",
    "if os.path.isfile(CONFIG_FILE):\n",
    "    with open(CONFIG_FILE) as f:\n",
    "        sys.argv = f.read().split()\n",
    "else:\n",
    "    sys.argv = ['stub.py']\n",
    "parser = argparse.ArgumentParser()\n",
    "parser.add_argument(\"--adata_path\", help=\"path to adata object, expects log normalized X\")\n",
    "parser.add_argument(\"--consensus_factorization_path\",help=\"path to scBTF consensus factorization result, .pkl format\")\n",
    "parser.add_argument(\"--full_factorization_path\",help=\"path to scBTF full factorization result, .pkl format\")\n",
    "\n",
    "args = parser.parse_args()\n",
    "\n",
    "rich.print(args)\n",
    "globals().update(vars(args))"
   ]
  },
  {
   "cell_type": "code",
   "execution_count": 5,
   "id": "22ea6449-f271-4e33-a7bf-1eae28bb4feb",
   "metadata": {},
   "outputs": [
    {
     "data": {
      "text/html": [
       "<pre style=\"white-space:pre;overflow-x:auto;line-height:normal;font-family:Menlo,'DejaVu Sans Mono',consolas,'Courier New',monospace\">Single cell factorization object with the following params:\n",
       "        Tensor size <span style=\"color: #008080; text-decoration-color: #008080; font-weight: bold\">15</span> x <span style=\"color: #008080; text-decoration-color: #008080; font-weight: bold\">15</span> x <span style=\"color: #008080; text-decoration-color: #008080; font-weight: bold\">17147</span>\n",
       "        Ranks: <span style=\"font-weight: bold\">[</span><span style=\"color: #008080; text-decoration-color: #008080; font-weight: bold\">16</span>, <span style=\"color: #008080; text-decoration-color: #008080; font-weight: bold\">24</span>, <span style=\"color: #008080; text-decoration-color: #008080; font-weight: bold\">20</span><span style=\"font-weight: bold\">]</span>\n",
       "</pre>\n"
      ],
      "text/plain": [
       "Single cell factorization object with the following params:\n",
       "        Tensor size \u001B[1;36m15\u001B[0m x \u001B[1;36m15\u001B[0m x \u001B[1;36m17147\u001B[0m\n",
       "        Ranks: \u001B[1m[\u001B[0m\u001B[1;36m16\u001B[0m, \u001B[1;36m24\u001B[0m, \u001B[1;36m20\u001B[0m\u001B[1m]\u001B[0m\n"
      ]
     },
     "metadata": {},
     "output_type": "display_data"
    },
    {
     "data": {
      "text/plain": []
     },
     "execution_count": 5,
     "metadata": {},
     "output_type": "execute_result"
    }
   ],
   "source": [
    "consensus_factorization = FactorizationSet.load(consensus_factorization_path)\n",
    "full_factorization = FactorizationSet.load(full_factorization_path)\n",
    "full_factorization"
   ]
  },
  {
   "cell_type": "markdown",
   "id": "e764c394-2c08-4287-b708-55be4c308586",
   "metadata": {},
   "source": [
    "## 2. Explained Variance across restarts for each rank"
   ]
  },
  {
   "cell_type": "markdown",
   "id": "39d8dc3a-113e-49ae-b2c0-15ebb455d60c",
   "metadata": {},
   "source": [
    "Given by the formula,\n",
    "$$\n",
    "1 −  \\frac{|| T −  T’ ||^2}{|| T ||^2}  \n",
    "$$ \n",
    "where (T) is the target tensor and (T’) is the tensor reconstructed from the inferred factor matrices\n"
   ]
  },
  {
   "cell_type": "code",
   "execution_count": 37,
   "id": "2adb83b1-85da-4c65-aa3b-b750d83032ce",
   "metadata": {},
   "outputs": [
    {
     "data": {
      "application/vnd.jupyter.widget-view+json": {
       "model_id": "4c0fbb36e7a8467d8e61ff98d5c5eb49",
       "version_major": 2,
       "version_minor": 0
      },
      "text/plain": [
       "Tab(children=(Output(), Output(), Output()), _titles={'0': 'Rank 16', '1': 'Rank 20', '2': 'Rank 24'})"
      ]
     },
     "metadata": {},
     "output_type": "display_data"
    }
   ],
   "source": [
    "children = []\n",
    "for rank in sorted(list(full_factorization.get_ranks())):\n",
    "    out = widgets.Output()\n",
    "    with out:\n",
    "        fig, ax = plt.subplots(figsize=(5, 2))\n",
    "        n_restarts = len(full_factorization.factorizations[rank])\n",
    "        var_explained = [full_factorization.variance_explained(rank=rank, restart_index=i) for i in range(n_restarts)]\n",
    "        ax.plot(var_explained, 'g')\n",
    "        plt.xlabel('Restart')\n",
    "        plt.ylabel(\"Variance Explained\")\n",
    "        plt.ylim(min(var_explained) - 0.05, 1)\n",
    "        plt.show(fig)\n",
    "    children.append(out)\n",
    "tab = widgets.Tab(children = children)\n",
    "for index, rank in enumerate(sorted(list(reconstructed_all.get_ranks()))):\n",
    "    tab.set_title(index, f'Rank {rank}')\n",
    "display(tab)"
   ]
  },
  {
   "cell_type": "markdown",
   "id": "9f783e61-2a8b-449b-ad0f-1e415fafb431",
   "metadata": {},
   "source": [
    "## 3. Fit and stability metrics across ranks\n",
    "\n",
    "A critical parameter in tensor factorization algorithms is the factorization rank R which determines the number of factors used to approximate the target tensor. Choosing an optimal rank involves using both objective metrics about the quality of the factorization at a given rank and a more subjective assessment of the quality and resolution of the factors retrieved.\n",
    "\n",
    "We utilize 3 objective metrics of factorization quality:\n",
    "\n",
    "\t1. Explained Variance\n",
    "\t2. Consensus matrix cophenetic correlation\n",
    "\t3. Silhouette Score\n"
   ]
  },
  {
   "cell_type": "code",
   "execution_count": null,
   "id": "206984f9-4302-45c4-a2d5-b62b3084a158",
   "metadata": {},
   "outputs": [],
   "source": [
    "fig = full_factorization.rank_metrics_plot()"
   ]
  },
  {
   "cell_type": "markdown",
   "id": "8d28304d-f5d5-4d81-a8e9-9cc40061e24a",
   "metadata": {},
   "source": [
    " "
   ]
  },
  {
   "cell_type": "markdown",
   "id": "69ae13c3-5f51-46f4-a5ce-8c325d83ccd9",
   "metadata": {},
   "source": [
    "## 4. Summary plot of factors in each rank"
   ]
  },
  {
   "cell_type": "markdown",
   "id": "7e6d7f70-2a4b-4e16-9607-e0fbeb44bebb",
   "metadata": {},
   "source": [
    "Factor loadings for samples in the first panel and celltypes in the second panel. \n",
    "Third panel gives the gene program extracted from the gene loadings of the factor\n"
   ]
  },
  {
   "cell_type": "code",
   "execution_count": 40,
   "id": "1bfab952-d311-48a5-9883-f667cf6e08d0",
   "metadata": {},
   "outputs": [
    {
     "data": {
      "application/vnd.jupyter.widget-view+json": {
       "model_id": "ab682b65d80843e6ad6db7ae408064d8",
       "version_major": 2,
       "version_minor": 0
      },
      "text/plain": [
       "Tab(children=(Output(), Output(), Output()), _titles={'0': 'Rank 16', '1': 'Rank 20', '2': 'Rank 24'})"
      ]
     },
     "metadata": {},
     "output_type": "display_data"
    }
   ],
   "source": [
    "children = []\n",
    "for rank in sorted(list(consensus_factorization.get_ranks())):\n",
    "    out = widgets.Output()\n",
    "    with out:\n",
    "        fig = reconstructed_all.plot_components(\n",
    "            rank=rank, restart_index=0, threshold = 0.7, entropy = 1, eps = 0, sort_by = 'other',\n",
    "            plot_erichment_terms=True, normalize_gene_factors=True, title=False\n",
    "        )\n",
    "        plt.show(fig)\n",
    "    children.append(out)\n",
    "tab = widgets.Tab(children = children)\n",
    "for index, rank in enumerate(sorted(list(consensus_factorization.get_ranks()))):\n",
    "    tab.set_title(index, f'Rank {rank}')\n",
    "display(tab)"
   ]
  },
  {
   "cell_type": "markdown",
   "id": "df1eb596-06e8-4b5a-9877-7da80a02fb7e",
   "metadata": {},
   "source": [
    "## 5. Detailed Factor Analysis for each rank "
   ]
  },
  {
   "cell_type": "code",
   "execution_count": null,
   "id": "6023989b-d533-4adb-9135-06f9ff03603a",
   "metadata": {},
   "outputs": [],
   "source": [
    "ARGS = 'stub.py --adata_path {} --consensus_factorization_path {} --rank {} --factor {}'\n",
    "CONFIG_FILENAME = '.config_ipynb'\n",
    "children = []\n",
    "for rank in sorted(list(consensus_factorization.get_ranks())):\n",
    "    children_ac = []\n",
    "    for factor in range(2):\n",
    "        out = widgets.Output()\n",
    "        with out:\n",
    "            with open(CONFIG_FILENAME,'w') as f:\n",
    "                f.write(ARGS.format(adata_path, consensus_factorization_path, rank, factor))\n",
    "            %run factor_analysis_template_small.ipynb\n",
    "        children_ac.append(out)\n",
    "    accordion = widgets.Accordion(children=children_ac)\n",
    "    for factor in range(rank):\n",
    "        accordion.set_title(factor, f'Factor {factor}')\n",
    "    children.append(accordion)\n",
    "tab = widgets.Tab(children = children)\n",
    "for index, rank in enumerate(sorted(list(consensus_factorization.get_ranks()))):\n",
    "    tab.set_title(index, f'Rank {rank}')\n",
    "display(tab)"
   ]
  },
  {
   "cell_type": "code",
   "execution_count": null,
   "id": "4fa5ac2b-3519-4c67-9e64-ac65cbd9c640",
   "metadata": {},
   "outputs": [],
   "source": [
    "for factor in range(24):\n",
    "    CONFIG_FILENAME = '.config_ipynb'\n",
    "\n",
    "    with open(CONFIG_FILENAME,'w') as f:\n",
    "        f.write(st.format(adata_path, consensus_factorization_path, rank, factor))\n",
    "    %run factor_analysis_template.ipynb"
   ]
  },
  {
   "cell_type": "code",
   "execution_count": null,
   "id": "97bdd940-24bd-45ab-87e6-101c166c9f5f",
   "metadata": {},
   "outputs": [],
   "source": []
  },
  {
   "cell_type": "markdown",
   "id": "002ba4bd-cbff-4acb-9ea1-a80f55b541fb",
   "metadata": {},
   "source": [
    " "
   ]
  }
 ],
 "metadata": {
  "kernelspec": {
   "name": "python3",
   "language": "python",
   "display_name": "Python 3 (ipykernel)"
  },
  "language_info": {
   "codemirror_mode": {
    "name": "ipython",
    "version": 3
   },
   "file_extension": ".py",
   "mimetype": "text/x-python",
   "name": "python",
   "nbconvert_exporter": "python",
   "pygments_lexer": "ipython3",
   "version": "3.10.6"
  }
 },
 "nbformat": 4,
 "nbformat_minor": 5
}